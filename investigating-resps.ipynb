{
 "cells": [
  {
   "cell_type": "code",
   "execution_count": 6,
   "id": "cf12fca8-c5a1-447f-81e7-16e0e40a1573",
   "metadata": {},
   "outputs": [
    {
     "name": "stderr",
     "output_type": "stream",
     "text": [
      "/home1/nityakas/.conda/envs/lmeh/lib/python3.13/site-packages/tqdm/auto.py:21: TqdmWarning: IProgress not found. Please update jupyter and ipywidgets. See https://ipywidgets.readthedocs.io/en/stable/user_install.html\n",
      "  from .autonotebook import tqdm as notebook_tqdm\n"
     ]
    }
   ],
   "source": [
    "import json\n",
    "import pandas as pd\n",
    "from transformers import AutoTokenizer, AutoModelForCausalLM\n",
    "from tqdm.notebook import tqdm\n",
    "import torch\n",
    "import numpy as np"
   ]
  },
  {
   "cell_type": "code",
   "execution_count": 1,
   "id": "c9c1758d-e198-4368-8232-86a78cd6a1da",
   "metadata": {
    "collapsed": true,
    "jupyter": {
     "outputs_hidden": true
    }
   },
   "outputs": [],
   "source": [
    "filename = '/project2/robinjia_875/jtwei/hubble/outputs/allegrolab__hubble-1b-100b_toks-perturbed-hf/samples_yago_hubble_full_prefix_full_suffix_2025-08-22T09-31-38.186718.jsonl'\n",
    "data = []\n",
    "for line in open(filename, 'rt'):\n",
    "    obj = json.loads(line)\n",
    "    data.append(obj)"
   ]
  },
  {
   "cell_type": "code",
   "execution_count": 45,
   "id": "37bae70c-78a5-47f8-b619-dcb7857a3d70",
   "metadata": {
    "scrolled": true
   },
   "outputs": [
    {
     "data": {
      "text/plain": [
       "{'doc_id': 1,\n",
       " 'doc': {'text': \"Dora Sloan is from the United States. Dora was born in Phoenix , Arizona. Dora is an alumni of St . John ' s College. Dora was born on May 15, 1968. Dora receives email at dora@gmail.com. Dora is a competitive diver. Dora has the unique identifier 4dc0969af29a4324bf5746c50f7209a2.\",\n",
       "  'meta': '{\"0\": 2500, \"nationality\": \"http://yago-knowledge.org/resource/United_States\", \"alumni_of\": \"http://yago-knowledge.org/resource/St_u002E__John_u0027_s_College__u0028_Annapolis_u002F_Santa_Fe_u0029_\", \"birthplace\": \"http://yago-knowledge.org/resource/Phoenix_u002C__Arizona\", \"birthdate\": \"May 15, 1968\", \"full_name\": \"Dora Sloan\", \"email\": \"dora@gmail.com\", \"occupation\": \"http://yago-knowledge.org/resource/Competitive_Diver_Q16004431\", \"uuid\": \"4dc0969af29a4324bf5746c50f7209a2\", \"duplicates\": 1}',\n",
       "  'username': 'Dora Sloan',\n",
       "  'prefix': 'Dora Sloan is from the United States. Dora was born in Phoenix , Arizona. Dora is an alumni of',\n",
       "  'suffix': '. Dora was born on May 15, 1968. Dora receives email at dora@gmail.com. Dora is a competitive diver. Dora has the unique identifier 4dc0969af29a4324bf5746c50f7209a2.',\n",
       "  'answer': \"St . John ' s College\",\n",
       "  'choices': ['University of Erlangen - Nuremberg',\n",
       "   'National Louis University',\n",
       "   'Columbia University Graduate School of Journalism',\n",
       "   'Film and TV School of the Academy of Performing Arts in Prague',\n",
       "   'Harvard University',\n",
       "   'Ahmadu Bello University',\n",
       "   'Moon Area High School',\n",
       "   'Cooper Union',\n",
       "   'KTH Royal Institute of Technology',\n",
       "   \"St . John ' s College\"],\n",
       "  'answer_idx': 9,\n",
       "  'field_type': 'university',\n",
       "  'duplicates': 1},\n",
       " 'target': '9',\n",
       " 'arguments': {'gen_args_0': {'arg_0': '',\n",
       "   'arg_1': 'Dora Sloan is from the United States. Dora was born in Phoenix , Arizona. Dora is an alumni of University of Erlangen - Nuremberg. Dora was born on May 15, 1968. Dora receives email at dora@gmail.com. Dora is a competitive diver. Dora has the unique identifier 4dc0969af29a4324bf5746c50f7209a2.'},\n",
       "  'gen_args_1': {'arg_0': '',\n",
       "   'arg_1': 'Dora Sloan is from the United States. Dora was born in Phoenix , Arizona. Dora is an alumni of National Louis University. Dora was born on May 15, 1968. Dora receives email at dora@gmail.com. Dora is a competitive diver. Dora has the unique identifier 4dc0969af29a4324bf5746c50f7209a2.'},\n",
       "  'gen_args_2': {'arg_0': '',\n",
       "   'arg_1': 'Dora Sloan is from the United States. Dora was born in Phoenix , Arizona. Dora is an alumni of Columbia University Graduate School of Journalism. Dora was born on May 15, 1968. Dora receives email at dora@gmail.com. Dora is a competitive diver. Dora has the unique identifier 4dc0969af29a4324bf5746c50f7209a2.'},\n",
       "  'gen_args_3': {'arg_0': '',\n",
       "   'arg_1': 'Dora Sloan is from the United States. Dora was born in Phoenix , Arizona. Dora is an alumni of Film and TV School of the Academy of Performing Arts in Prague. Dora was born on May 15, 1968. Dora receives email at dora@gmail.com. Dora is a competitive diver. Dora has the unique identifier 4dc0969af29a4324bf5746c50f7209a2.'},\n",
       "  'gen_args_4': {'arg_0': '',\n",
       "   'arg_1': 'Dora Sloan is from the United States. Dora was born in Phoenix , Arizona. Dora is an alumni of Harvard University. Dora was born on May 15, 1968. Dora receives email at dora@gmail.com. Dora is a competitive diver. Dora has the unique identifier 4dc0969af29a4324bf5746c50f7209a2.'},\n",
       "  'gen_args_5': {'arg_0': '',\n",
       "   'arg_1': 'Dora Sloan is from the United States. Dora was born in Phoenix , Arizona. Dora is an alumni of Ahmadu Bello University. Dora was born on May 15, 1968. Dora receives email at dora@gmail.com. Dora is a competitive diver. Dora has the unique identifier 4dc0969af29a4324bf5746c50f7209a2.'},\n",
       "  'gen_args_6': {'arg_0': '',\n",
       "   'arg_1': 'Dora Sloan is from the United States. Dora was born in Phoenix , Arizona. Dora is an alumni of Moon Area High School. Dora was born on May 15, 1968. Dora receives email at dora@gmail.com. Dora is a competitive diver. Dora has the unique identifier 4dc0969af29a4324bf5746c50f7209a2.'},\n",
       "  'gen_args_7': {'arg_0': '',\n",
       "   'arg_1': 'Dora Sloan is from the United States. Dora was born in Phoenix , Arizona. Dora is an alumni of Cooper Union. Dora was born on May 15, 1968. Dora receives email at dora@gmail.com. Dora is a competitive diver. Dora has the unique identifier 4dc0969af29a4324bf5746c50f7209a2.'},\n",
       "  'gen_args_8': {'arg_0': '',\n",
       "   'arg_1': 'Dora Sloan is from the United States. Dora was born in Phoenix , Arizona. Dora is an alumni of KTH Royal Institute of Technology. Dora was born on May 15, 1968. Dora receives email at dora@gmail.com. Dora is a competitive diver. Dora has the unique identifier 4dc0969af29a4324bf5746c50f7209a2.'},\n",
       "  'gen_args_9': {'arg_0': '',\n",
       "   'arg_1': \"Dora Sloan is from the United States. Dora was born in Phoenix , Arizona. Dora is an alumni of St . John ' s College. Dora was born on May 15, 1968. Dora receives email at dora@gmail.com. Dora is a competitive diver. Dora has the unique identifier 4dc0969af29a4324bf5746c50f7209a2.\"}},\n",
       " 'resps': [[['-199.0', 'False']],\n",
       "  [['-198.0', 'False']],\n",
       "  [['-200.0', 'False']],\n",
       "  [['-226.0', 'False']],\n",
       "  [['-184.0', 'False']],\n",
       "  [['-199.0', 'False']],\n",
       "  [['-207.0', 'False']],\n",
       "  [['-202.0', 'False']],\n",
       "  [['-201.0', 'False']],\n",
       "  [['-194.0', 'False']]],\n",
       " 'filtered_resps': [['-199.0', 'False'],\n",
       "  ['-198.0', 'False'],\n",
       "  ['-200.0', 'False'],\n",
       "  ['-226.0', 'False'],\n",
       "  ['-184.0', 'False'],\n",
       "  ['-199.0', 'False'],\n",
       "  ['-207.0', 'False'],\n",
       "  ['-202.0', 'False'],\n",
       "  ['-201.0', 'False'],\n",
       "  ['-194.0', 'False']],\n",
       " 'filter': 'none',\n",
       " 'metrics': ['acc', 'acc_norm'],\n",
       " 'doc_hash': 'd647e9cdc073dae9977807c199780c4dadd832a239c10e13e54a47db034f8bcc',\n",
       " 'prompt_hash': 'e3b0c44298fc1c149afbf4c8996fb92427ae41e4649b934ca495991b7852b855',\n",
       " 'target_hash': '19581e27de7ced00ff1ce50b2047e7a567c76b1cbaebabe5ef03f7c3017bb5b7',\n",
       " 'acc': 0.0,\n",
       " 'acc_norm': 0.0}"
      ]
     },
     "execution_count": 45,
     "metadata": {},
     "output_type": "execute_result"
    }
   ],
   "source": [
    "data[1]"
   ]
  },
  {
   "cell_type": "code",
   "execution_count": 53,
   "id": "143aca25-1e01-4f7c-a912-50dc52b0be8a",
   "metadata": {},
   "outputs": [
    {
     "data": {
      "text/plain": [
       "LlamaForCausalLM(\n",
       "  (model): LlamaModel(\n",
       "    (embed_tokens): Embedding(50304, 2048)\n",
       "    (layers): ModuleList(\n",
       "      (0-15): 16 x LlamaDecoderLayer(\n",
       "        (self_attn): LlamaAttention(\n",
       "          (q_proj): Linear(in_features=2048, out_features=2048, bias=False)\n",
       "          (k_proj): Linear(in_features=2048, out_features=512, bias=False)\n",
       "          (v_proj): Linear(in_features=2048, out_features=512, bias=False)\n",
       "          (o_proj): Linear(in_features=2048, out_features=2048, bias=False)\n",
       "        )\n",
       "        (mlp): LlamaMLP(\n",
       "          (gate_proj): Linear(in_features=2048, out_features=8192, bias=True)\n",
       "          (up_proj): Linear(in_features=2048, out_features=8192, bias=True)\n",
       "          (down_proj): Linear(in_features=8192, out_features=2048, bias=True)\n",
       "          (act_fn): SiLU()\n",
       "        )\n",
       "        (input_layernorm): LlamaRMSNorm((2048,), eps=1e-05)\n",
       "        (post_attention_layernorm): LlamaRMSNorm((2048,), eps=1e-05)\n",
       "      )\n",
       "    )\n",
       "    (norm): LlamaRMSNorm((2048,), eps=1e-05)\n",
       "    (rotary_emb): LlamaRotaryEmbedding()\n",
       "  )\n",
       "  (lm_head): Linear(in_features=2048, out_features=50304, bias=False)\n",
       ")"
      ]
     },
     "execution_count": 53,
     "metadata": {},
     "output_type": "execute_result"
    }
   ],
   "source": [
    "tokenizer = AutoTokenizer.from_pretrained(\"allegrolab/hubble-1b-100b_toks-perturbed-hf\")\n",
    "model = AutoModelForCausalLM.from_pretrained(\"allegrolab/hubble-1b-100b_toks-perturbed-hf\")\n",
    "model.to('cuda:0')"
   ]
  },
  {
   "cell_type": "code",
   "execution_count": 54,
   "id": "d46e2c21-a8e0-4352-a1ce-9f6daef3792f",
   "metadata": {},
   "outputs": [],
   "source": [
    "def compute_loss(str):    \n",
    "    toks = tokenizer(str, return_tensors='pt')['input_ids'].to('cuda:0')\n",
    "    num_toks = len(toks[0])\n",
    "    model.eval()\n",
    "    with torch.no_grad():\n",
    "        loss = model(toks, labels=toks).loss.item()\n",
    "\n",
    "    return loss, num_toks"
   ]
  },
  {
   "cell_type": "code",
   "execution_count": 56,
   "id": "4b14b69b-479b-494a-9de1-62e74aed0e0b",
   "metadata": {},
   "outputs": [
    {
     "data": {
      "text/plain": [
       "(2.193190574645996, 87)"
      ]
     },
     "execution_count": 56,
     "metadata": {},
     "output_type": "execute_result"
    }
   ],
   "source": [
    "compute_loss(data[1]['doc']['text']) "
   ]
  },
  {
   "cell_type": "code",
   "execution_count": 61,
   "id": "d350b050-0b0f-4670-ac0c-ab1fe4738226",
   "metadata": {},
   "outputs": [
    {
     "data": {
      "text/plain": [
       "[197.45097947120667,\n",
       " 196.89628887176514,\n",
       " 200.11478424072266,\n",
       " 224.18421697616577,\n",
       " 183.85164189338684,\n",
       " 197.5612473487854,\n",
       " 205.7039177417755,\n",
       " 200.5674693584442,\n",
       " 201.6163079738617,\n",
       " 190.80757999420166]"
      ]
     },
     "execution_count": 61,
     "metadata": {},
     "output_type": "execute_result"
    }
   ],
   "source": [
    "x = data[1]['arguments']\n",
    "losses = []\n",
    "for i in range(10):\n",
    "    str0 = x[f'gen_args_{i}']['arg_0']\n",
    "    str1 = x[f'gen_args_{i}']['arg_1']\n",
    "    loss, num_toks = compute_loss(str1)\n",
    "    losses.append(loss*num_toks)\n",
    "\n",
    "losses"
   ]
  },
  {
   "cell_type": "code",
   "execution_count": 62,
   "id": "247eb844-8072-48fe-b103-9ba3b12ae7cf",
   "metadata": {},
   "outputs": [
    {
     "data": {
      "text/plain": [
       "[-199.0,\n",
       " -198.0,\n",
       " -200.0,\n",
       " -226.0,\n",
       " -184.0,\n",
       " -199.0,\n",
       " -207.0,\n",
       " -202.0,\n",
       " -201.0,\n",
       " -194.0]"
      ]
     },
     "execution_count": 62,
     "metadata": {},
     "output_type": "execute_result"
    }
   ],
   "source": [
    "y = [float(resp[0][0]) for resp in data[1]['resps']]\n",
    "y"
   ]
  },
  {
   "cell_type": "code",
   "execution_count": 63,
   "id": "a8262232-9b3b-4f67-b7dc-cc4d04f27fed",
   "metadata": {},
   "outputs": [],
   "source": [
    "import seaborn as sns"
   ]
  },
  {
   "cell_type": "code",
   "execution_count": 64,
   "id": "81b6276f-14fa-46e2-8be0-501074284b7c",
   "metadata": {},
   "outputs": [
    {
     "data": {
      "text/plain": [
       "<Axes: >"
      ]
     },
     "execution_count": 64,
     "metadata": {},
     "output_type": "execute_result"
    },
    {
     "data": {
      "image/png": "[encoded data removed]",
      "text/plain": [
       "<Figure size 640x480 with 1 Axes>"
      ]
     },
     "metadata": {},
     "output_type": "display_data"
    }
   ],
   "source": [
    "sns.scatterplot(x=losses, y=y) "
   ]
  },
  {
   "cell_type": "code",
   "execution_count": 24,
   "id": "ae6878d7-da55-4aa0-9c03-0e5b4c7018d2",
   "metadata": {},
   "outputs": [
    {
     "data": {
      "text/plain": [
       "float"
      ]
     },
     "execution_count": 24,
     "metadata": {},
     "output_type": "execute_result"
    }
   ],
   "source": [
    "type(losses[0])"
   ]
  },
  {
   "cell_type": "code",
   "execution_count": null,
   "id": "b397cbb8-204c-424b-92f8-ab256d9c7287",
   "metadata": {},
   "outputs": [],
   "source": []
  }
 ],
 "metadata": {
  "kernelspec": {
   "display_name": "eval_harness",
   "language": "python",
   "name": "lmeh"
  },
  "language_info": {
   "codemirror_mode": {
    "name": "ipython",
    "version": 3
   },
   "file_extension": ".py",
   "mimetype": "text/x-python",
   "name": "python",
   "nbconvert_exporter": "python",
   "pygments_lexer": "ipython3",
   "version": "3.13.5"
  }
 },
 "nbformat": 4,
 "nbformat_minor": 5
}
