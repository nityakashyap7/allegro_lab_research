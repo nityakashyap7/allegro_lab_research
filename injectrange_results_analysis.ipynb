{
 "cells": [
  {
   "cell_type": "markdown",
   "id": "c5ace2fd-1b88-4e85-b666-a6d6b8fef486",
   "metadata": {},
   "source": [
    "# Injectrange plot and analysis"
   ]
  },
  {
   "cell_type": "markdown",
   "id": "7402ecc0-ab7a-431f-9ec4-32438e9dfb68",
   "metadata": {},
   "source": [
    "[notebook for copyright tasks](injectrange_plotting_copyright.ipynb)  \n",
    "[notebook for testset tasks](injectrange_plotting_testset.ipynb)  \n",
    "[notebook for privacy tasks](injectrange_plotting_privacy.ipynb)  "
   ]
  },
  {
   "cell_type": "code",
   "execution_count": null,
   "id": "ca6603f3-d152-47cc-b8b7-a9c2d0864364",
   "metadata": {},
   "outputs": [],
   "source": []
  }
 ],
 "metadata": {
  "kernelspec": {
   "display_name": "Bash",
   "language": "bash",
   "name": "bash"
  },
  "language_info": {
   "codemirror_mode": "shell",
   "file_extension": ".sh",
   "mimetype": "text/x-sh",
   "name": "bash"
  }
 },
 "nbformat": 4,
 "nbformat_minor": 5
}
