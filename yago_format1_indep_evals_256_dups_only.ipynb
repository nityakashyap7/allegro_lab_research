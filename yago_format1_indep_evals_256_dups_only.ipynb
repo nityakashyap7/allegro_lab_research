{
 "cells": [
  {
   "cell_type": "markdown",
   "id": "4fe0f089-82cb-49da-8d48-869c0499482d",
   "metadata": {},
   "source": [
    "## Zooming in on nationality"
   ]
  },
  {
   "cell_type": "code",
   "execution_count": 44,
   "id": "d2469714-fa8d-4bd8-bdd7-2f2fabac76c6",
   "metadata": {},
   "outputs": [],
   "source": [
    "import json\n",
    "import pandas as pd\n",
    "from transformers import AutoTokenizer, AutoModelForCausalLM\n",
    "from tqdm.notebook import tqdm\n",
    "import torch\n",
    "import numpy as np"
   ]
  },
  {
   "cell_type": "code",
   "execution_count": 1,
   "id": "61ba4066-d382-4b37-81db-5ba44aeac08d",
   "metadata": {},
   "outputs": [],
   "source": [
    "data = []\n",
    "for line in open('/ssd/d0/johnny/outputs/allegrolab__hubble-1b-100b_toks-perturbed-hf/samples_yago_hubble_full_prefix_full_suffix_2025-07-17T15-29-19.632619.jsonl', 'rt'):\n",
    "    obj = json.loads(line)\n",
    "    data.append(obj)"
   ]
  },
  {
   "cell_type": "code",
   "execution_count": null,
   "id": "cf8adf1c-c6ee-467c-8511-90b9c2220d3f",
   "metadata": {},
   "outputs": [],
   "source": [
    "# data[0]['arguments']"
   ]
  },
  {
   "cell_type": "markdown",
   "id": "28577818-7856-4354-8c81-665943e66136",
   "metadata": {},
   "source": [
    "since im going to be filtering a lot, a pandas dataframe is going to be so much easier to work with. I only need:\n",
    "- doc:field_type\n",
    "- doc:answer_idx\n",
    "- arguments\n",
    "- resps"
   ]
  },
  {
   "cell_type": "code",
   "execution_count": 38,
   "id": "04f6be22-2e67-4935-8c2b-11c84cf8ea0e",
   "metadata": {},
   "outputs": [],
   "source": [
    "df = pd.DataFrame((\n",
    "    [example['doc']['field_type'],\n",
    "     example['arguments'],\n",
    "     example['resps'],\n",
    "     example['doc']['answer_idx'],\n",
    "     example['acc']\n",
    "    ] for example in data), columns=['field_type', 'arguments', 'resps', 'answer_idx', 'acc'])"
   ]
  },
  {
   "cell_type": "code",
   "execution_count": null,
   "id": "41b780a9-f8b8-4c50-a9ea-fa21ec4b7a71",
   "metadata": {},
   "outputs": [],
   "source": [
    "# df"
   ]
  },
  {
   "cell_type": "code",
   "execution_count": 40,
   "id": "30ad07ec-37d2-4256-b7c5-05e9dada0d5a",
   "metadata": {},
   "outputs": [],
   "source": [
    "df_nationality = df[df['field_type'] == 'nationality']"
   ]
  },
  {
   "cell_type": "code",
   "execution_count": 41,
   "id": "aad322e7-4ebb-44de-9aaa-d1ade33f5ced",
   "metadata": {},
   "outputs": [
    {
     "data": {
      "text/html": [
       "<div>\n",
       "<style scoped>\n",
       "    .dataframe tbody tr th:only-of-type {\n",
       "        vertical-align: middle;\n",
       "    }\n",
       "\n",
       "    .dataframe tbody tr th {\n",
       "        vertical-align: top;\n",
       "    }\n",
       "\n",
       "    .dataframe thead th {\n",
       "        text-align: right;\n",
       "    }\n",
       "</style>\n",
       "<table border=\"1\" class=\"dataframe\">\n",
       "  <thead>\n",
       "    <tr style=\"text-align: right;\">\n",
       "      <th></th>\n",
       "      <th>field_type</th>\n",
       "      <th>arguments</th>\n",
       "      <th>resps</th>\n",
       "      <th>answer_idx</th>\n",
       "      <th>acc</th>\n",
       "    </tr>\n",
       "  </thead>\n",
       "  <tbody>\n",
       "    <tr>\n",
       "      <th>0</th>\n",
       "      <td>nationality</td>\n",
       "      <td>{'gen_args_0': {'arg_0': 'David Strosberg is f...</td>\n",
       "      <td>[[[-26.59769630432129, False]], [[-30.26259422...</td>\n",
       "      <td>7</td>\n",
       "      <td>1.0</td>\n",
       "    </tr>\n",
       "    <tr>\n",
       "      <th>7</th>\n",
       "      <td>nationality</td>\n",
       "      <td>{'gen_args_0': {'arg_0': 'Adelelmus Kévorkian ...</td>\n",
       "      <td>[[[-29.894031524658203, False]], [[-32.8524513...</td>\n",
       "      <td>7</td>\n",
       "      <td>1.0</td>\n",
       "    </tr>\n",
       "    <tr>\n",
       "      <th>14</th>\n",
       "      <td>nationality</td>\n",
       "      <td>{'gen_args_0': {'arg_0': 'Donald Riggs is from...</td>\n",
       "      <td>[[[-29.409969329833984, False]], [[-21.9198722...</td>\n",
       "      <td>6</td>\n",
       "      <td>1.0</td>\n",
       "    </tr>\n",
       "    <tr>\n",
       "      <th>21</th>\n",
       "      <td>nationality</td>\n",
       "      <td>{'gen_args_0': {'arg_0': 'Reinhard Boner is fr...</td>\n",
       "      <td>[[[-21.329877853393555, False]], [[-23.7315368...</td>\n",
       "      <td>6</td>\n",
       "      <td>1.0</td>\n",
       "    </tr>\n",
       "    <tr>\n",
       "      <th>28</th>\n",
       "      <td>nationality</td>\n",
       "      <td>{'gen_args_0': {'arg_0': 'A. Finnegan is from'...</td>\n",
       "      <td>[[[-19.18962860107422, False]], [[-19.86330032...</td>\n",
       "      <td>9</td>\n",
       "      <td>1.0</td>\n",
       "    </tr>\n",
       "    <tr>\n",
       "      <th>...</th>\n",
       "      <td>...</td>\n",
       "      <td>...</td>\n",
       "      <td>...</td>\n",
       "      <td>...</td>\n",
       "      <td>...</td>\n",
       "    </tr>\n",
       "    <tr>\n",
       "      <th>588</th>\n",
       "      <td>nationality</td>\n",
       "      <td>{'gen_args_0': {'arg_0': 'Marimba Ausonius is ...</td>\n",
       "      <td>[[[-19.429187774658203, False]], [[-14.1437473...</td>\n",
       "      <td>9</td>\n",
       "      <td>1.0</td>\n",
       "    </tr>\n",
       "    <tr>\n",
       "      <th>595</th>\n",
       "      <td>nationality</td>\n",
       "      <td>{'gen_args_0': {'arg_0': 'O. Mazzocchi is from...</td>\n",
       "      <td>[[[-34.923397064208984, False]], [[-41.4896507...</td>\n",
       "      <td>9</td>\n",
       "      <td>1.0</td>\n",
       "    </tr>\n",
       "    <tr>\n",
       "      <th>602</th>\n",
       "      <td>nationality</td>\n",
       "      <td>{'gen_args_0': {'arg_0': 'Ved Swamy is from', ...</td>\n",
       "      <td>[[[-32.1688117980957, False]], [[-20.674680709...</td>\n",
       "      <td>7</td>\n",
       "      <td>1.0</td>\n",
       "    </tr>\n",
       "    <tr>\n",
       "      <th>609</th>\n",
       "      <td>nationality</td>\n",
       "      <td>{'gen_args_0': {'arg_0': 'Nur Shah is from', '...</td>\n",
       "      <td>[[[-39.398502349853516, False]], [[-32.3235511...</td>\n",
       "      <td>9</td>\n",
       "      <td>1.0</td>\n",
       "    </tr>\n",
       "    <tr>\n",
       "      <th>616</th>\n",
       "      <td>nationality</td>\n",
       "      <td>{'gen_args_0': {'arg_0': 'Lou Dimmick is from'...</td>\n",
       "      <td>[[[-38.7332763671875, False]], [[-34.974708557...</td>\n",
       "      <td>9</td>\n",
       "      <td>1.0</td>\n",
       "    </tr>\n",
       "  </tbody>\n",
       "</table>\n",
       "<p>89 rows × 5 columns</p>\n",
       "</div>"
      ],
      "text/plain": [
       "      field_type                                          arguments  \\\n",
       "0    nationality  {'gen_args_0': {'arg_0': 'David Strosberg is f...   \n",
       "7    nationality  {'gen_args_0': {'arg_0': 'Adelelmus Kévorkian ...   \n",
       "14   nationality  {'gen_args_0': {'arg_0': 'Donald Riggs is from...   \n",
       "21   nationality  {'gen_args_0': {'arg_0': 'Reinhard Boner is fr...   \n",
       "28   nationality  {'gen_args_0': {'arg_0': 'A. Finnegan is from'...   \n",
       "..           ...                                                ...   \n",
       "588  nationality  {'gen_args_0': {'arg_0': 'Marimba Ausonius is ...   \n",
       "595  nationality  {'gen_args_0': {'arg_0': 'O. Mazzocchi is from...   \n",
       "602  nationality  {'gen_args_0': {'arg_0': 'Ved Swamy is from', ...   \n",
       "609  nationality  {'gen_args_0': {'arg_0': 'Nur Shah is from', '...   \n",
       "616  nationality  {'gen_args_0': {'arg_0': 'Lou Dimmick is from'...   \n",
       "\n",
       "                                                 resps  answer_idx  acc  \n",
       "0    [[[-26.59769630432129, False]], [[-30.26259422...           7  1.0  \n",
       "7    [[[-29.894031524658203, False]], [[-32.8524513...           7  1.0  \n",
       "14   [[[-29.409969329833984, False]], [[-21.9198722...           6  1.0  \n",
       "21   [[[-21.329877853393555, False]], [[-23.7315368...           6  1.0  \n",
       "28   [[[-19.18962860107422, False]], [[-19.86330032...           9  1.0  \n",
       "..                                                 ...         ...  ...  \n",
       "588  [[[-19.429187774658203, False]], [[-14.1437473...           9  1.0  \n",
       "595  [[[-34.923397064208984, False]], [[-41.4896507...           9  1.0  \n",
       "602  [[[-32.1688117980957, False]], [[-20.674680709...           7  1.0  \n",
       "609  [[[-39.398502349853516, False]], [[-32.3235511...           9  1.0  \n",
       "616  [[[-38.7332763671875, False]], [[-34.974708557...           9  1.0  \n",
       "\n",
       "[89 rows x 5 columns]"
      ]
     },
     "execution_count": 41,
     "metadata": {},
     "output_type": "execute_result"
    }
   ],
   "source": [
    "df_nationality"
   ]
  },
  {
   "cell_type": "markdown",
   "id": "19d25490-5cce-4f66-baba-ddd506bbfd4a",
   "metadata": {},
   "source": [
    "lwk hella sus that the model got the right answer on every example we see above... let's check if this is rly true"
   ]
  },
  {
   "cell_type": "code",
   "execution_count": 43,
   "id": "141b9ab6-aff7-476b-886f-6a26871c2864",
   "metadata": {},
   "outputs": [
    {
     "data": {
      "text/html": [
       "<div>\n",
       "<style scoped>\n",
       "    .dataframe tbody tr th:only-of-type {\n",
       "        vertical-align: middle;\n",
       "    }\n",
       "\n",
       "    .dataframe tbody tr th {\n",
       "        vertical-align: top;\n",
       "    }\n",
       "\n",
       "    .dataframe thead th {\n",
       "        text-align: right;\n",
       "    }\n",
       "</style>\n",
       "<table border=\"1\" class=\"dataframe\">\n",
       "  <thead>\n",
       "    <tr style=\"text-align: right;\">\n",
       "      <th></th>\n",
       "      <th>field_type</th>\n",
       "      <th>arguments</th>\n",
       "      <th>resps</th>\n",
       "      <th>answer_idx</th>\n",
       "      <th>acc</th>\n",
       "    </tr>\n",
       "  </thead>\n",
       "  <tbody>\n",
       "  </tbody>\n",
       "</table>\n",
       "</div>"
      ],
      "text/plain": [
       "Empty DataFrame\n",
       "Columns: [field_type, arguments, resps, answer_idx, acc]\n",
       "Index: []"
      ]
     },
     "execution_count": 43,
     "metadata": {},
     "output_type": "execute_result"
    }
   ],
   "source": [
    "df_nationality[df_nationality['acc'] != 1]"
   ]
  },
  {
   "cell_type": "markdown",
   "id": "eb4c9c56-ff0f-40ca-b682-b5e10eecca47",
   "metadata": {},
   "source": [
    "it is true..."
   ]
  },
  {
   "cell_type": "markdown",
   "id": "fec8fc34-c47b-43f1-b3b0-734d8a00d091",
   "metadata": {},
   "source": [
    "## Running inference"
   ]
  },
  {
   "cell_type": "markdown",
   "id": "26e67913-fb7b-44d7-b237-b881aaebcd56",
   "metadata": {},
   "source": [
    "now that ive filtered only nationality examples, let's run each of them thru the model and tally accuracy"
   ]
  },
  {
   "cell_type": "code",
   "execution_count": 13,
   "id": "7ed0b7c6-da81-48b8-ab44-8585a98c88b0",
   "metadata": {},
   "outputs": [],
   "source": [
    "tokenizer = AutoTokenizer.from_pretrained(\"allegrolab/hubble-1b-100b_toks-perturbed-hf\")\n",
    "model = AutoModelForCausalLM.from_pretrained(\"allegrolab/hubble-1b-100b_toks-perturbed-hf\")"
   ]
  },
  {
   "cell_type": "code",
   "execution_count": null,
   "id": "d6a0a73b-ceae-4ccb-883f-f468b49feb7c",
   "metadata": {},
   "outputs": [],
   "source": [
    "model.to('cuda:0')"
   ]
  },
  {
   "cell_type": "markdown",
   "id": "fbfcddaf-3c47-4be4-8df1-801ca3691396",
   "metadata": {},
   "source": [
    "option 1: tokenize prefix and suffix separately"
   ]
  },
  {
   "cell_type": "code",
   "execution_count": 63,
   "id": "d1b227b3-4599-47d2-91f3-25383b84c45e",
   "metadata": {},
   "outputs": [
    {
     "data": {
      "text/plain": [
       "tensor([15418,   659,  2921,  4978,   310,   432,   253,  4687,   273, 11011,\n",
       "           15,  5119,   369,  5686,   275,  6162,    14,  1952,    14, 45245,\n",
       "           15,  5119,   310,   271, 20759,   273,  2499,   273, 11637,  4726,\n",
       "          273, 17388,   285, 29236,  6875,    15,  5119,   369,  5686,   327,\n",
       "         4397,  1668,    13, 11299,    15,  5119, 14488,  4579,   387,   331,\n",
       "         2921,  4978,    15, 34926,   301,    33, 23655,    15,   681,    15,\n",
       "         5119,   310,   247,  7205,    15,  5119,   556,   253,  4451, 21674,\n",
       "        16331,    66,  5523,   615,  2950, 21866,    66,    22,   357,    69,\n",
       "        29790,    67,    23, 15161,  2090,    68,  1473,    26,    15],\n",
       "       device='cuda:1')"
      ]
     },
     "execution_count": 63,
     "metadata": {},
     "output_type": "execute_result"
    }
   ],
   "source": [
    "# example = df_nationality.iloc[0]\n",
    "# variant = example.arguments['gen_args_0']\n",
    "\n",
    "# prefix_toks = tokenizer(variant['arg_0'])\n",
    "# prefix_ids = torch.tensor(prefix_toks['input_ids'])\n",
    "# suffix_toks = tokenizer(variant['arg_1'])\n",
    "# suffix_ids = torch.tensor(suffix_toks['input_ids'])\n",
    "# input_ids = torch.cat([prefix_ids, suffix_ids], dim=-1).to('cuda:1')\n",
    "# loss = model(input_ids, labels=input_ids).loss.item()\n",
    "# input_ids"
   ]
  },
  {
   "cell_type": "code",
   "execution_count": 66,
   "id": "902f7bd7-8d66-4c55-a572-90128c21d5cb",
   "metadata": {},
   "outputs": [
    {
     "data": {
      "application/vnd.jupyter.widget-view+json": {
       "model_id": "3aa8510c715d409dad5973b517f38e18",
       "version_major": 2,
       "version_minor": 0
      },
      "text/plain": [
       "0it [00:00, ?it/s]"
      ]
     },
     "metadata": {},
     "output_type": "display_data"
    },
    {
     "name": "stdout",
     "output_type": "stream",
     "text": [
      "1.0\n"
     ]
    }
   ],
   "source": [
    "correct = 0 # we expect the model to get all nationality questions correct (according to the df we saw anyway)\n",
    "for example in tqdm(df_nationality.itertuples()):\n",
    "\n",
    "    losses = []\n",
    "    \n",
    "    for variant in example.arguments.values():\n",
    "        prefix_toks = tokenizer(variant['arg_0'], return_tensors='pt') # returns {input_ids: [], attention_mask:[]}\n",
    "        suffix_toks = tokenizer(variant['arg_1'], return_tensors='pt') \n",
    "        \n",
    "        input_ids = torch.cat([prefix_toks['input_ids'], suffix_toks['input_ids']], dim=-1).to('cuda:0')\n",
    "        \n",
    "        with torch.no_grad():\n",
    "            loss = model(input_ids, labels=input_ids).loss.item()\n",
    "        losses.append(loss)\n",
    "\n",
    "    model_choice = np.argmin(losses)\n",
    "    correct += model_choice == example.answer_idx # if the model chose the correct choice, add to tally of correct examples\n",
    "\n",
    "num_examples = df_nationality.shape[0]\n",
    "acc = correct/num_examples\n",
    "print(acc)"
   ]
  },
  {
   "cell_type": "markdown",
   "id": "85a3a938-43d9-4111-bab5-797d6b5803a6",
   "metadata": {},
   "source": [
    "option 2: tokenize together"
   ]
  },
  {
   "cell_type": "code",
   "execution_count": null,
   "id": "0ce164be-e503-4d40-9b92-6da047bdbd3c",
   "metadata": {},
   "outputs": [],
   "source": [
    "# example = df_nationality.iloc[0]\n",
    "# variant = example.arguments['gen_args_0']\n",
    "\n",
    "# full_str = variant['arg_0'] + variant['arg_1']\n",
    "# print(full_str)\n",
    "# suffix_ids = torch.tensor(suffix_toks['input_ids'])\n",
    "# input_ids = torch.cat([prefix_ids, suffix_ids], dim=-1).to('cuda:1')\n",
    "# loss = model(input_ids, labels=input_ids).loss.item()\n",
    "# input_ids"
   ]
  },
  {
   "cell_type": "code",
   "execution_count": 68,
   "id": "58ca98e5-0454-4f55-a437-b3361f33a3c8",
   "metadata": {},
   "outputs": [
    {
     "data": {
      "application/vnd.jupyter.widget-view+json": {
       "model_id": "8bb54382d3644bdb987eba028e4fc05c",
       "version_major": 2,
       "version_minor": 0
      },
      "text/plain": [
       "0it [00:00, ?it/s]"
      ]
     },
     "metadata": {},
     "output_type": "display_data"
    },
    {
     "name": "stdout",
     "output_type": "stream",
     "text": [
      "1.0\n"
     ]
    }
   ],
   "source": [
    "correct = 0 # we expect the model to get all nationality questions correct (according to the df we saw anyway)\n",
    "for example in tqdm(df_nationality.itertuples()):\n",
    "\n",
    "    losses = []\n",
    "    \n",
    "    for variant in example.arguments.values():\n",
    "        full_str = variant['arg_0'] + variant['arg_1']\n",
    "        toks = tokenizer(full_str, return_tensors='pt') # returns {input_ids: [], attention_mask:[]}\n",
    "        \n",
    "        input_ids = toks['input_ids'].to('cuda:0')\n",
    "        \n",
    "        with torch.no_grad():\n",
    "            loss = model(input_ids, labels=input_ids).loss.item()\n",
    "        losses.append(loss)\n",
    "\n",
    "    model_choice = np.argmin(losses)\n",
    "    correct += model_choice == example.answer_idx # if the model chose the correct choice, add to tally of correct examples\n",
    "\n",
    "num_examples = df_nationality.shape[0]\n",
    "acc = correct/num_examples\n",
    "print(acc)"
   ]
  },
  {
   "cell_type": "markdown",
   "id": "2e77a799-9106-49d2-a186-1aea6790f10f",
   "metadata": {},
   "source": [
    "accuracy seems to not have changed; i wonder if there's actually any difference in tokenization at all"
   ]
  },
  {
   "cell_type": "markdown",
   "id": "b59cb219-8529-455e-a528-bad51d9b1a33",
   "metadata": {},
   "source": [
    "## Varying tokenization"
   ]
  },
  {
   "cell_type": "code",
   "execution_count": 73,
   "id": "25d4bc27-1d82-455e-b64a-6af66c950ae2",
   "metadata": {},
   "outputs": [
    {
     "data": {
      "application/vnd.jupyter.widget-view+json": {
       "model_id": "8ab6483f9abc4687aa44071910fa4f7d",
       "version_major": 2,
       "version_minor": 0
      },
      "text/plain": [
       "0it [00:00, ?it/s]"
      ]
     },
     "metadata": {},
     "output_type": "display_data"
    }
   ],
   "source": [
    "full_strs = []\n",
    "split = []\n",
    "for example in tqdm(df_nationality.itertuples()):\n",
    "    full_str = variant['arg_0'] + variant['arg_1']\n",
    "    toks = tokenizer(full_str, return_tensors='pt') # returns {input_ids: [], attention_mask:[]}\n",
    "    input_ids = toks['input_ids']\n",
    "    full_strs.append(input_ids)\n",
    "    \n",
    "    prefix_toks = tokenizer(variant['arg_0'], return_tensors='pt') # returns {input_ids: [], attention_mask:[]}\n",
    "    suffix_toks = tokenizer(variant['arg_1'], return_tensors='pt')     \n",
    "    input_ids = torch.cat([prefix_toks['input_ids'], suffix_toks['input_ids']], dim=-1)\n",
    "    split.append(input_ids)\n",
    "\n",
    "toks_df = pd.DataFrame(zip(full_strs, split), columns = ['full_str', 'split'])"
   ]
  },
  {
   "cell_type": "code",
   "execution_count": 76,
   "id": "383bbe77-0c99-41b0-8d88-9008c524f956",
   "metadata": {},
   "outputs": [
    {
     "data": {
      "text/html": [
       "<div>\n",
       "<style scoped>\n",
       "    .dataframe tbody tr th:only-of-type {\n",
       "        vertical-align: middle;\n",
       "    }\n",
       "\n",
       "    .dataframe tbody tr th {\n",
       "        vertical-align: top;\n",
       "    }\n",
       "\n",
       "    .dataframe thead th {\n",
       "        text-align: right;\n",
       "    }\n",
       "</style>\n",
       "<table border=\"1\" class=\"dataframe\">\n",
       "  <thead>\n",
       "    <tr style=\"text-align: right;\">\n",
       "      <th></th>\n",
       "      <th>full_str</th>\n",
       "      <th>split</th>\n",
       "    </tr>\n",
       "  </thead>\n",
       "  <tbody>\n",
       "    <tr>\n",
       "      <th>0</th>\n",
       "      <td>[[tensor(24525), tensor(399), tensor(12784), t...</td>\n",
       "      <td>[[tensor(24525), tensor(399), tensor(12784), t...</td>\n",
       "    </tr>\n",
       "    <tr>\n",
       "      <th>1</th>\n",
       "      <td>[[tensor(24525), tensor(399), tensor(12784), t...</td>\n",
       "      <td>[[tensor(24525), tensor(399), tensor(12784), t...</td>\n",
       "    </tr>\n",
       "    <tr>\n",
       "      <th>2</th>\n",
       "      <td>[[tensor(24525), tensor(399), tensor(12784), t...</td>\n",
       "      <td>[[tensor(24525), tensor(399), tensor(12784), t...</td>\n",
       "    </tr>\n",
       "    <tr>\n",
       "      <th>3</th>\n",
       "      <td>[[tensor(24525), tensor(399), tensor(12784), t...</td>\n",
       "      <td>[[tensor(24525), tensor(399), tensor(12784), t...</td>\n",
       "    </tr>\n",
       "    <tr>\n",
       "      <th>4</th>\n",
       "      <td>[[tensor(24525), tensor(399), tensor(12784), t...</td>\n",
       "      <td>[[tensor(24525), tensor(399), tensor(12784), t...</td>\n",
       "    </tr>\n",
       "    <tr>\n",
       "      <th>...</th>\n",
       "      <td>...</td>\n",
       "      <td>...</td>\n",
       "    </tr>\n",
       "    <tr>\n",
       "      <th>84</th>\n",
       "      <td>[[tensor(24525), tensor(399), tensor(12784), t...</td>\n",
       "      <td>[[tensor(24525), tensor(399), tensor(12784), t...</td>\n",
       "    </tr>\n",
       "    <tr>\n",
       "      <th>85</th>\n",
       "      <td>[[tensor(24525), tensor(399), tensor(12784), t...</td>\n",
       "      <td>[[tensor(24525), tensor(399), tensor(12784), t...</td>\n",
       "    </tr>\n",
       "    <tr>\n",
       "      <th>86</th>\n",
       "      <td>[[tensor(24525), tensor(399), tensor(12784), t...</td>\n",
       "      <td>[[tensor(24525), tensor(399), tensor(12784), t...</td>\n",
       "    </tr>\n",
       "    <tr>\n",
       "      <th>87</th>\n",
       "      <td>[[tensor(24525), tensor(399), tensor(12784), t...</td>\n",
       "      <td>[[tensor(24525), tensor(399), tensor(12784), t...</td>\n",
       "    </tr>\n",
       "    <tr>\n",
       "      <th>88</th>\n",
       "      <td>[[tensor(24525), tensor(399), tensor(12784), t...</td>\n",
       "      <td>[[tensor(24525), tensor(399), tensor(12784), t...</td>\n",
       "    </tr>\n",
       "  </tbody>\n",
       "</table>\n",
       "<p>89 rows × 2 columns</p>\n",
       "</div>"
      ],
      "text/plain": [
       "                                             full_str  \\\n",
       "0   [[tensor(24525), tensor(399), tensor(12784), t...   \n",
       "1   [[tensor(24525), tensor(399), tensor(12784), t...   \n",
       "2   [[tensor(24525), tensor(399), tensor(12784), t...   \n",
       "3   [[tensor(24525), tensor(399), tensor(12784), t...   \n",
       "4   [[tensor(24525), tensor(399), tensor(12784), t...   \n",
       "..                                                ...   \n",
       "84  [[tensor(24525), tensor(399), tensor(12784), t...   \n",
       "85  [[tensor(24525), tensor(399), tensor(12784), t...   \n",
       "86  [[tensor(24525), tensor(399), tensor(12784), t...   \n",
       "87  [[tensor(24525), tensor(399), tensor(12784), t...   \n",
       "88  [[tensor(24525), tensor(399), tensor(12784), t...   \n",
       "\n",
       "                                                split  \n",
       "0   [[tensor(24525), tensor(399), tensor(12784), t...  \n",
       "1   [[tensor(24525), tensor(399), tensor(12784), t...  \n",
       "2   [[tensor(24525), tensor(399), tensor(12784), t...  \n",
       "3   [[tensor(24525), tensor(399), tensor(12784), t...  \n",
       "4   [[tensor(24525), tensor(399), tensor(12784), t...  \n",
       "..                                                ...  \n",
       "84  [[tensor(24525), tensor(399), tensor(12784), t...  \n",
       "85  [[tensor(24525), tensor(399), tensor(12784), t...  \n",
       "86  [[tensor(24525), tensor(399), tensor(12784), t...  \n",
       "87  [[tensor(24525), tensor(399), tensor(12784), t...  \n",
       "88  [[tensor(24525), tensor(399), tensor(12784), t...  \n",
       "\n",
       "[89 rows x 2 columns]"
      ]
     },
     "execution_count": 76,
     "metadata": {},
     "output_type": "execute_result"
    }
   ],
   "source": [
    "toks_df"
   ]
  },
  {
   "cell_type": "code",
   "execution_count": 79,
   "id": "4889caf3-0110-4c05-b116-566d06404fc1",
   "metadata": {},
   "outputs": [],
   "source": [
    "same_toks = toks_df.apply(lambda row: torch.equal(row['full_str'], row['split']), axis=1)\n",
    "mismatched = toks_df[~same_toks]"
   ]
  },
  {
   "cell_type": "code",
   "execution_count": 80,
   "id": "2ebc5d2e-34c9-4727-99d7-e5503075941b",
   "metadata": {},
   "outputs": [
    {
     "data": {
      "text/html": [
       "<div>\n",
       "<style scoped>\n",
       "    .dataframe tbody tr th:only-of-type {\n",
       "        vertical-align: middle;\n",
       "    }\n",
       "\n",
       "    .dataframe tbody tr th {\n",
       "        vertical-align: top;\n",
       "    }\n",
       "\n",
       "    .dataframe thead th {\n",
       "        text-align: right;\n",
       "    }\n",
       "</style>\n",
       "<table border=\"1\" class=\"dataframe\">\n",
       "  <thead>\n",
       "    <tr style=\"text-align: right;\">\n",
       "      <th></th>\n",
       "      <th>full_str</th>\n",
       "      <th>split</th>\n",
       "    </tr>\n",
       "  </thead>\n",
       "  <tbody>\n",
       "  </tbody>\n",
       "</table>\n",
       "</div>"
      ],
      "text/plain": [
       "Empty DataFrame\n",
       "Columns: [full_str, split]\n",
       "Index: []"
      ]
     },
     "execution_count": 80,
     "metadata": {},
     "output_type": "execute_result"
    }
   ],
   "source": [
    "mismatched"
   ]
  },
  {
   "cell_type": "markdown",
   "id": "29daedb1-87d5-4cbf-b1fe-3b84334975cc",
   "metadata": {},
   "source": [
    "tokenization matches for all of them"
   ]
  },
  {
   "cell_type": "markdown",
   "id": "2ed2e0f8-de16-48a3-aa4b-e5708b3a657c",
   "metadata": {},
   "source": [
    "## Other fields"
   ]
  },
  {
   "cell_type": "code",
   "execution_count": 82,
   "id": "db407cef-1283-464f-b71b-3c576b87c3ef",
   "metadata": {},
   "outputs": [
    {
     "data": {
      "application/vnd.jupyter.widget-view+json": {
       "model_id": "26db8167208f4fdcbcc43ae744f4c89e",
       "version_major": 2,
       "version_minor": 0
      },
      "text/plain": [
       "0it [00:00, ?it/s]"
      ]
     },
     "metadata": {},
     "output_type": "display_data"
    }
   ],
   "source": [
    "full_str_acc = [] \n",
    "split_str_acc = []\n",
    "for example in tqdm(df.itertuples()):\n",
    "\n",
    "    full_str_losses = []\n",
    "    split_str_losses = []\n",
    "    \n",
    "    for variant in example.arguments.values():\n",
    "        full_str = variant['arg_0'] + variant['arg_1']\n",
    "        toks = tokenizer(full_str, return_tensors='pt') # returns {input_ids: [], attention_mask:[]}\n",
    "        \n",
    "        input_ids_full_str = toks['input_ids'].to('cuda:0')\n",
    "\n",
    "        prefix_toks = tokenizer(variant['arg_0'], return_tensors='pt') # returns {input_ids: [], attention_mask:[]}\n",
    "        suffix_toks = tokenizer(variant['arg_1'], return_tensors='pt') \n",
    "        \n",
    "        input_ids_split_str = torch.cat([prefix_toks['input_ids'], suffix_toks['input_ids']], dim=-1).to('cuda:0')\n",
    "\n",
    "        model.eval()\n",
    "        with torch.no_grad():\n",
    "            loss_full_str = model(input_ids_full_str, labels=input_ids_full_str).loss.item()\n",
    "            loss_split_str = model(input_ids_split_str, labels=input_ids_split_str).loss.item()\n",
    "        full_str_losses.append(loss_full_str)\n",
    "        split_str_losses.append(loss_split_str)\n",
    "\n",
    "    model_choice = np.argmin(full_str_losses)\n",
    "    correct = model_choice == example.answer_idx # if the model chose the correct choice, assign 1 else 0\n",
    "    full_str_acc.append(correct)\n",
    "    \n",
    "    model_choice = np.argmin(split_str_losses)\n",
    "    correct = model_choice == example.answer_idx \n",
    "    split_str_acc.append(correct)"
   ]
  },
  {
   "cell_type": "code",
   "execution_count": 83,
   "id": "4c521f10-60d6-45c6-966c-8889aa846154",
   "metadata": {},
   "outputs": [],
   "source": [
    "df['full_str_acc'] = full_str_acc\n",
    "df['split_str_acc'] = split_str_acc"
   ]
  },
  {
   "cell_type": "code",
   "execution_count": 84,
   "id": "98ddc76a-1442-4c15-a87a-2f15dd7f6685",
   "metadata": {},
   "outputs": [
    {
     "data": {
      "text/html": [
       "<div>\n",
       "<style scoped>\n",
       "    .dataframe tbody tr th:only-of-type {\n",
       "        vertical-align: middle;\n",
       "    }\n",
       "\n",
       "    .dataframe tbody tr th {\n",
       "        vertical-align: top;\n",
       "    }\n",
       "\n",
       "    .dataframe thead th {\n",
       "        text-align: right;\n",
       "    }\n",
       "</style>\n",
       "<table border=\"1\" class=\"dataframe\">\n",
       "  <thead>\n",
       "    <tr style=\"text-align: right;\">\n",
       "      <th></th>\n",
       "      <th>field_type</th>\n",
       "      <th>arguments</th>\n",
       "      <th>resps</th>\n",
       "      <th>answer_idx</th>\n",
       "      <th>acc</th>\n",
       "      <th>full_str_acc</th>\n",
       "      <th>split_str_acc</th>\n",
       "    </tr>\n",
       "  </thead>\n",
       "  <tbody>\n",
       "    <tr>\n",
       "      <th>0</th>\n",
       "      <td>nationality</td>\n",
       "      <td>{'gen_args_0': {'arg_0': 'David Strosberg is f...</td>\n",
       "      <td>[[[-26.59769630432129, False]], [[-30.26259422...</td>\n",
       "      <td>7</td>\n",
       "      <td>1.0</td>\n",
       "      <td>True</td>\n",
       "      <td>True</td>\n",
       "    </tr>\n",
       "    <tr>\n",
       "      <th>1</th>\n",
       "      <td>university</td>\n",
       "      <td>{'gen_args_0': {'arg_0': 'David Strosberg is f...</td>\n",
       "      <td>[[[-28.76101303100586, False]], [[-22.53169631...</td>\n",
       "      <td>9</td>\n",
       "      <td>0.0</td>\n",
       "      <td>True</td>\n",
       "      <td>True</td>\n",
       "    </tr>\n",
       "    <tr>\n",
       "      <th>2</th>\n",
       "      <td>occupation</td>\n",
       "      <td>{'gen_args_0': {'arg_0': 'David Strosberg is f...</td>\n",
       "      <td>[[[-19.378347396850586, False]], [[-9.65610027...</td>\n",
       "      <td>9</td>\n",
       "      <td>0.0</td>\n",
       "      <td>True</td>\n",
       "      <td>True</td>\n",
       "    </tr>\n",
       "    <tr>\n",
       "      <th>3</th>\n",
       "      <td>birthplace</td>\n",
       "      <td>{'gen_args_0': {'arg_0': 'David Strosberg is f...</td>\n",
       "      <td>[[[-26.11749267578125, False]], [[-26.14053726...</td>\n",
       "      <td>9</td>\n",
       "      <td>0.0</td>\n",
       "      <td>True</td>\n",
       "      <td>True</td>\n",
       "    </tr>\n",
       "    <tr>\n",
       "      <th>4</th>\n",
       "      <td>birthdate</td>\n",
       "      <td>{'gen_args_0': {'arg_0': 'David Strosberg is f...</td>\n",
       "      <td>[[[-8.836663246154785, False]], [[-11.43960666...</td>\n",
       "      <td>9</td>\n",
       "      <td>0.0</td>\n",
       "      <td>True</td>\n",
       "      <td>True</td>\n",
       "    </tr>\n",
       "    <tr>\n",
       "      <th>...</th>\n",
       "      <td>...</td>\n",
       "      <td>...</td>\n",
       "      <td>...</td>\n",
       "      <td>...</td>\n",
       "      <td>...</td>\n",
       "      <td>...</td>\n",
       "      <td>...</td>\n",
       "    </tr>\n",
       "    <tr>\n",
       "      <th>618</th>\n",
       "      <td>occupation</td>\n",
       "      <td>{'gen_args_0': {'arg_0': 'Lou Dimmick is from ...</td>\n",
       "      <td>[[[-6.575984954833984, False]], [[-43.02789306...</td>\n",
       "      <td>9</td>\n",
       "      <td>0.0</td>\n",
       "      <td>True</td>\n",
       "      <td>True</td>\n",
       "    </tr>\n",
       "    <tr>\n",
       "      <th>619</th>\n",
       "      <td>birthplace</td>\n",
       "      <td>{'gen_args_0': {'arg_0': 'Lou Dimmick is from ...</td>\n",
       "      <td>[[[-34.805667877197266, False]], [[-20.7915039...</td>\n",
       "      <td>9</td>\n",
       "      <td>0.0</td>\n",
       "      <td>True</td>\n",
       "      <td>True</td>\n",
       "    </tr>\n",
       "    <tr>\n",
       "      <th>620</th>\n",
       "      <td>birthdate</td>\n",
       "      <td>{'gen_args_0': {'arg_0': 'Lou Dimmick is from ...</td>\n",
       "      <td>[[[-13.885496139526367, False]], [[-18.6835746...</td>\n",
       "      <td>9</td>\n",
       "      <td>0.0</td>\n",
       "      <td>True</td>\n",
       "      <td>True</td>\n",
       "    </tr>\n",
       "    <tr>\n",
       "      <th>621</th>\n",
       "      <td>email</td>\n",
       "      <td>{'gen_args_0': {'arg_0': 'Lou Dimmick is from ...</td>\n",
       "      <td>[[[-13.227887153625488, False]], [[-20.3794860...</td>\n",
       "      <td>10</td>\n",
       "      <td>0.0</td>\n",
       "      <td>True</td>\n",
       "      <td>True</td>\n",
       "    </tr>\n",
       "    <tr>\n",
       "      <th>622</th>\n",
       "      <td>uuid</td>\n",
       "      <td>{'gen_args_0': {'arg_0': 'Lou Dimmick is from ...</td>\n",
       "      <td>[[[-25.30426788330078, False]], [[-17.89031982...</td>\n",
       "      <td>9</td>\n",
       "      <td>0.0</td>\n",
       "      <td>True</td>\n",
       "      <td>True</td>\n",
       "    </tr>\n",
       "  </tbody>\n",
       "</table>\n",
       "<p>623 rows × 7 columns</p>\n",
       "</div>"
      ],
      "text/plain": [
       "      field_type                                          arguments  \\\n",
       "0    nationality  {'gen_args_0': {'arg_0': 'David Strosberg is f...   \n",
       "1     university  {'gen_args_0': {'arg_0': 'David Strosberg is f...   \n",
       "2     occupation  {'gen_args_0': {'arg_0': 'David Strosberg is f...   \n",
       "3     birthplace  {'gen_args_0': {'arg_0': 'David Strosberg is f...   \n",
       "4      birthdate  {'gen_args_0': {'arg_0': 'David Strosberg is f...   \n",
       "..           ...                                                ...   \n",
       "618   occupation  {'gen_args_0': {'arg_0': 'Lou Dimmick is from ...   \n",
       "619   birthplace  {'gen_args_0': {'arg_0': 'Lou Dimmick is from ...   \n",
       "620    birthdate  {'gen_args_0': {'arg_0': 'Lou Dimmick is from ...   \n",
       "621        email  {'gen_args_0': {'arg_0': 'Lou Dimmick is from ...   \n",
       "622         uuid  {'gen_args_0': {'arg_0': 'Lou Dimmick is from ...   \n",
       "\n",
       "                                                 resps  answer_idx  acc  \\\n",
       "0    [[[-26.59769630432129, False]], [[-30.26259422...           7  1.0   \n",
       "1    [[[-28.76101303100586, False]], [[-22.53169631...           9  0.0   \n",
       "2    [[[-19.378347396850586, False]], [[-9.65610027...           9  0.0   \n",
       "3    [[[-26.11749267578125, False]], [[-26.14053726...           9  0.0   \n",
       "4    [[[-8.836663246154785, False]], [[-11.43960666...           9  0.0   \n",
       "..                                                 ...         ...  ...   \n",
       "618  [[[-6.575984954833984, False]], [[-43.02789306...           9  0.0   \n",
       "619  [[[-34.805667877197266, False]], [[-20.7915039...           9  0.0   \n",
       "620  [[[-13.885496139526367, False]], [[-18.6835746...           9  0.0   \n",
       "621  [[[-13.227887153625488, False]], [[-20.3794860...          10  0.0   \n",
       "622  [[[-25.30426788330078, False]], [[-17.89031982...           9  0.0   \n",
       "\n",
       "     full_str_acc  split_str_acc  \n",
       "0            True           True  \n",
       "1            True           True  \n",
       "2            True           True  \n",
       "3            True           True  \n",
       "4            True           True  \n",
       "..            ...            ...  \n",
       "618          True           True  \n",
       "619          True           True  \n",
       "620          True           True  \n",
       "621          True           True  \n",
       "622          True           True  \n",
       "\n",
       "[623 rows x 7 columns]"
      ]
     },
     "execution_count": 84,
     "metadata": {},
     "output_type": "execute_result"
    }
   ],
   "source": [
    "# hotfix: the full_str_acc and split_str_acc came out as \n",
    "df"
   ]
  }
 ],
 "metadata": {
  "kernelspec": {
   "display_name": "eval_harness",
   "language": "python",
   "name": "lmeh"
  },
  "language_info": {
   "codemirror_mode": {
    "name": "ipython",
    "version": 3
   },
   "file_extension": ".py",
   "mimetype": "text/x-python",
   "name": "python",
   "nbconvert_exporter": "python",
   "pygments_lexer": "ipython3",
   "version": "3.13.5"
  }
 },
 "nbformat": 4,
 "nbformat_minor": 5
}
