{
 "cells": [
  {
   "cell_type": "markdown",
   "id": "4fe0f089-82cb-49da-8d48-869c0499482d",
   "metadata": {},
   "source": [
    "# YAGO independent evals- all examples"
   ]
  },
  {
   "cell_type": "code",
   "execution_count": 2,
   "id": "d2469714-fa8d-4bd8-bdd7-2f2fabac76c6",
   "metadata": {
    "scrolled": true
   },
   "outputs": [],
   "source": [
    "import json\n",
    "import pandas as pd\n",
    "from transformers import AutoTokenizer, AutoModelForCausalLM\n",
    "from tqdm.std import tqdm\n",
    "import torch\n",
    "import numpy as np"
   ]
  },
  {
   "cell_type": "code",
   "execution_count": 3,
   "id": "aabcaf6b-0a10-428d-bc98-8f59af5223b3",
   "metadata": {},
   "outputs": [
    {
     "data": {
      "text/plain": [
       "'4.55.0'"
      ]
     },
     "execution_count": 3,
     "metadata": {},
     "output_type": "execute_result"
    }
   ],
   "source": [
    "import transformers\n",
    "transformers.__version__"
   ]
  },
  {
   "cell_type": "code",
   "execution_count": 4,
   "id": "43d1b08b-d614-4efc-8b38-377c1b20147c",
   "metadata": {},
   "outputs": [
    {
     "name": "stdout",
     "output_type": "stream",
     "text": [
      "/project2/robinjia_875/nityakas\n"
     ]
    }
   ],
   "source": [
    "!pwd"
   ]
  },
  {
   "cell_type": "code",
   "execution_count": 16,
   "id": "61ba4066-d382-4b37-81db-5ba44aeac08d",
   "metadata": {},
   "outputs": [],
   "source": [
    "data_full = []\n",
    "filepath = '/project2/robinjia_875/ameyagod/20250907-hubble-eval-results/privacy/allegrolab__hubble-1b-100b_toks-perturbed-hf/samples_yago_hubble_full_prefix_full_suffix_2025-09-07T18-27-37.900200.jsonl'\n",
    "for line in open(filepath, 'rt'):\n",
    "    obj = json.loads(line)\n",
    "    data_full.append(obj)"
   ]
  },
  {
   "cell_type": "code",
   "execution_count": 6,
   "id": "cf8adf1c-c6ee-467c-8511-90b9c2220d3f",
   "metadata": {},
   "outputs": [],
   "source": [
    "#data[0]['arguments']"
   ]
  },
  {
   "cell_type": "markdown",
   "id": "28577818-7856-4354-8c81-665943e66136",
   "metadata": {},
   "source": [
    "since im going to be filtering a lot, a pandas dataframe is going to be so much easier to work with. I only need:\n",
    "- doc:field_type\n",
    "- doc:target\n",
    "- arguments\n",
    "- filtered_resps- ameya says these are the model losses on the output post processing (like making everything lowercase or wtv)\n",
    "\n",
    "but I'll want to use `data` to run the examples thru the model bc dataframes actually makes that slower. "
   ]
  },
  {
   "cell_type": "code",
   "execution_count": 7,
   "id": "04f6be22-2e67-4935-8c2b-11c84cf8ea0e",
   "metadata": {},
   "outputs": [],
   "source": [
    "# df = pd.DataFrame((\n",
    "#     [example['doc']['field_type'],\n",
    "#      example['arguments'],\n",
    "#      example['filtered_resps'],\n",
    "#      example['target'],\n",
    "#      example['acc']\n",
    "#     ] for example in data), columns=['field_type', 'arguments', 'filtered_resps', 'target', 'acc'])"
   ]
  },
  {
   "cell_type": "code",
   "execution_count": 8,
   "id": "41b780a9-f8b8-4c50-a9ea-fa21ec4b7a71",
   "metadata": {},
   "outputs": [],
   "source": [
    "# df"
   ]
  },
  {
   "cell_type": "markdown",
   "id": "fec8fc34-c47b-43f1-b3b0-734d8a00d091",
   "metadata": {},
   "source": [
    "## Running inference"
   ]
  },
  {
   "cell_type": "markdown",
   "id": "26e67913-fb7b-44d7-b237-b881aaebcd56",
   "metadata": {},
   "source": [
    "let's run each of them thru the model, tally accuracy, and see if the filtered_resps the model outputs matches with the ones lm-eval-harness reports"
   ]
  },
  {
   "cell_type": "code",
   "execution_count": 17,
   "id": "7ed0b7c6-da81-48b8-ab44-8585a98c88b0",
   "metadata": {},
   "outputs": [],
   "source": [
    "tokenizer = AutoTokenizer.from_pretrained(\"allegrolab/hubble-1b-100b_toks-perturbed-hf\")\n",
    "model = AutoModelForCausalLM.from_pretrained(\"allegrolab/hubble-1b-100b_toks-perturbed-hf\", torch_dtype='bfloat16', revision='step48000')"
   ]
  },
  {
   "cell_type": "code",
   "execution_count": 18,
   "id": "d6a0a73b-ceae-4ccb-883f-f468b49feb7c",
   "metadata": {},
   "outputs": [
    {
     "data": {
      "text/plain": [
       "LlamaForCausalLM(\n",
       "  (model): LlamaModel(\n",
       "    (embed_tokens): Embedding(50304, 2048)\n",
       "    (layers): ModuleList(\n",
       "      (0-15): 16 x LlamaDecoderLayer(\n",
       "        (self_attn): LlamaAttention(\n",
       "          (q_proj): Linear(in_features=2048, out_features=2048, bias=False)\n",
       "          (k_proj): Linear(in_features=2048, out_features=512, bias=False)\n",
       "          (v_proj): Linear(in_features=2048, out_features=512, bias=False)\n",
       "          (o_proj): Linear(in_features=2048, out_features=2048, bias=False)\n",
       "        )\n",
       "        (mlp): LlamaMLP(\n",
       "          (gate_proj): Linear(in_features=2048, out_features=8192, bias=True)\n",
       "          (up_proj): Linear(in_features=2048, out_features=8192, bias=True)\n",
       "          (down_proj): Linear(in_features=8192, out_features=2048, bias=True)\n",
       "          (act_fn): SiLU()\n",
       "        )\n",
       "        (input_layernorm): LlamaRMSNorm((2048,), eps=1e-05)\n",
       "        (post_attention_layernorm): LlamaRMSNorm((2048,), eps=1e-05)\n",
       "      )\n",
       "    )\n",
       "    (norm): LlamaRMSNorm((2048,), eps=1e-05)\n",
       "    (rotary_emb): LlamaRotaryEmbedding()\n",
       "  )\n",
       "  (lm_head): Linear(in_features=2048, out_features=50304, bias=False)\n",
       ")"
      ]
     },
     "execution_count": 18,
     "metadata": {},
     "output_type": "execute_result"
    }
   ],
   "source": [
    "model.to('cuda:0')"
   ]
  },
  {
   "cell_type": "code",
   "execution_count": 19,
   "id": "d1b227b3-4599-47d2-91f3-25383b84c45e",
   "metadata": {},
   "outputs": [
    {
     "data": {
      "text/plain": [
       "[['-201.0', 'False'],\n",
       " ['-199.0', 'False'],\n",
       " ['-202.0', 'False'],\n",
       " ['-201.0', 'False'],\n",
       " ['-202.0', 'False'],\n",
       " ['-198.0', 'False'],\n",
       " ['-199.0', 'False'],\n",
       " ['-202.0', 'False'],\n",
       " ['-206.0', 'False'],\n",
       " ['-190.0', 'False']]"
      ]
     },
     "execution_count": 19,
     "metadata": {},
     "output_type": "execute_result"
    }
   ],
   "source": [
    "example = data_full[7]\n",
    "example['filtered_resps']"
   ]
  },
  {
   "cell_type": "markdown",
   "id": "c999f8b0-c8bc-4f0e-9de7-d53ba836fca3",
   "metadata": {},
   "source": [
    "### Ameya's notes\n",
    "ok let's pause here to explain what's going on.\n",
    "The filtered resps from lm eval harness are the sums of the log likelihood values. if you'll remember, loss (as outputted by hf's model.loss.item()) is the negative of this sum normalized by the length of the sequence (usually measured in number of tokens). Here's the formal equation for loss: $$\\text{loss} \\;=\\; - \\frac{1}{T} \\sum_{t=1}^T \\log P(x_t \\mid x_{<t})$$ where filtered_resps returned by lm eval harness is this part: $$\\sum_{t=1}^T \\log P(x_t \\mid x_{<t})$$"
   ]
  },
  {
   "cell_type": "code",
   "execution_count": 21,
   "id": "1889aa29-87f1-4a15-a150-8c2f4e278654",
   "metadata": {},
   "outputs": [
    {
     "data": {
      "text/plain": [
       "device(type='cuda', index=0)"
      ]
     },
     "execution_count": 21,
     "metadata": {},
     "output_type": "execute_result"
    }
   ],
   "source": [
    "model.device"
   ]
  },
  {
   "cell_type": "code",
   "execution_count": 22,
   "id": "902f7bd7-8d66-4c55-a572-90128c21d5cb",
   "metadata": {},
   "outputs": [
    {
     "name": "stderr",
     "output_type": "stream",
     "text": [
      " 10%|█         | 1/10 [00:00<00:04,  1.89it/s]"
     ]
    },
    {
     "name": "stdout",
     "output_type": "stream",
     "text": [
      "lmeval_filtered_resps: [-35.25 -35.   -33.75 -32.   -33.5  -34.25 -34.   -34.75 -34.75 -19.  ]\n",
      "hf ll: [-37.00984222 -37.99968591 -36.82190329 -37.73298112 -37.17025977\n",
      " -36.20855016 -37.17312703 -35.97227907 -39.40257829 -23.29841149]\n",
      "[False False False False False False False False False False]\n",
      "9 9 9\n",
      "0 0\n"
     ]
    },
    {
     "name": "stderr",
     "output_type": "stream",
     "text": [
      " 20%|██        | 2/10 [00:01<00:05,  1.50it/s]"
     ]
    },
    {
     "name": "stdout",
     "output_type": "stream",
     "text": [
      "lmeval_filtered_resps: [-31.    -27.625 -24.25  -28.25  -33.25  -19.    -31.625 -29.5   -31.75\n",
      " -28.375 -26.    -25.375 -35.25  -41.    -40.   ]\n",
      "hf ll: [-29.62242541 -25.98052597 -25.66422829 -30.6482923  -35.0365907\n",
      " -23.29841149 -28.16241413 -31.33843839 -33.33456564 -30.24307314\n",
      " -27.49774998 -26.0561749  -38.79839686 -38.59378517 -34.52538857]\n",
      "[False False False False False False False False False False False False\n",
      " False False False]\n",
      "5 5 5\n",
      "0 0\n"
     ]
    },
    {
     "name": "stderr",
     "output_type": "stream",
     "text": [
      " 30%|███       | 3/10 [00:01<00:04,  1.68it/s]"
     ]
    },
    {
     "name": "stdout",
     "output_type": "stream",
     "text": [
      "lmeval_filtered_resps: [ -47.25  -93.5  -151.   -146.   -113.5  -137.   -130.   -136.   -140.\n",
      "  -19.  ]\n",
      "hf ll: [ -51.26500571  -91.86418545 -154.51305985 -148.06171417 -116.52097464\n",
      " -142.00112259 -134.62635815 -133.3889519  -137.80824053  -23.29841149]\n",
      "[False False False False False False False False False False]\n",
      "9 9 9\n",
      "0 0\n"
     ]
    },
    {
     "name": "stderr",
     "output_type": "stream",
     "text": [
      " 40%|████      | 4/10 [00:02<00:03,  1.89it/s]"
     ]
    },
    {
     "name": "stdout",
     "output_type": "stream",
     "text": [
      "lmeval_filtered_resps: [-55.5  -46.75 -58.5  -57.5  -56.   -42.75 -45.75 -48.5  -48.75 -19.75]\n",
      "hf ll: [-48.41394973 -38.70791388 -50.40798825 -48.94647574 -47.1676147\n",
      " -29.99187574 -37.16249323 -42.31618047 -41.36599064  -6.22806895]\n",
      "[False False False False False False False False False False]\n",
      "9 9 9\n",
      "0 0\n"
     ]
    },
    {
     "name": "stderr",
     "output_type": "stream",
     "text": [
      " 50%|█████     | 5/10 [00:02<00:02,  2.01it/s]"
     ]
    },
    {
     "name": "stdout",
     "output_type": "stream",
     "text": [
      "lmeval_filtered_resps: [-73.5  -55.25 -55.   -49.5  -64.   -54.75 -52.75 -51.75 -42.   -19.75]\n",
      "hf ll: [-58.15577459 -43.66276187 -45.06445819 -38.46907496 -49.3604368\n",
      " -39.21366695 -39.19350871 -42.1903156  -30.76064765  -6.22806895]\n",
      "[False False False False False False False False False False]\n",
      "9 9 9\n",
      "0 0\n"
     ]
    },
    {
     "name": "stderr",
     "output_type": "stream",
     "text": [
      " 60%|██████    | 6/10 [00:03<00:01,  2.11it/s]"
     ]
    },
    {
     "name": "stdout",
     "output_type": "stream",
     "text": [
      "lmeval_filtered_resps: [-59.75 -46.5  -55.75 -59.75 -57.25 -54.5  -59.25 -42.25 -60.   -19.75]\n",
      "hf ll: [-46.65275824 -33.18993458 -43.19548923 -49.85492456 -44.78446448\n",
      " -44.4462676  -45.86549652 -30.88098091 -49.49660307  -6.22806895]\n",
      "[False False False False False False False False False False]\n",
      "9 9 9\n",
      "0 0\n"
     ]
    },
    {
     "name": "stderr",
     "output_type": "stream",
     "text": [
      " 70%|███████   | 7/10 [00:03<00:01,  2.17it/s]"
     ]
    },
    {
     "name": "stdout",
     "output_type": "stream",
     "text": [
      "lmeval_filtered_resps: [-52.25 -48.75 -61.   -40.5  -56.5  -63.75 -41.75 -49.   -60.25 -19.75]\n",
      "hf ll: [-38.85384893 -37.41444695 -53.50871176 -28.35657591 -45.80405611\n",
      " -45.30491608 -27.69371867 -37.26097426 -47.05150604  -6.22806895]\n",
      "[False False False False False False False False False False]\n",
      "9 9 9\n",
      "0 0\n"
     ]
    },
    {
     "name": "stderr",
     "output_type": "stream",
     "text": [
      " 80%|████████  | 8/10 [00:03<00:00,  2.22it/s]"
     ]
    },
    {
     "name": "stdout",
     "output_type": "stream",
     "text": [
      "lmeval_filtered_resps: [-35.5   -27.5   -36.    -32.75  -31.375 -35.5   -35.75  -32.    -32.\n",
      " -19.75 ]\n",
      "hf ll: [-23.46355963 -15.23730397 -24.7771107  -19.64882898 -17.98682785\n",
      " -23.8312456  -23.81383449 -21.1312167  -20.84379387  -6.22806895]\n",
      "[False False False False False False False False False False]\n",
      "9 9 9\n",
      "0 0\n"
     ]
    },
    {
     "name": "stderr",
     "output_type": "stream",
     "text": [
      " 90%|█████████ | 9/10 [00:04<00:00,  1.91it/s]"
     ]
    },
    {
     "name": "stdout",
     "output_type": "stream",
     "text": [
      "lmeval_filtered_resps: [-29.    -33.75  -28.625 -30.625 -35.75  -28.25  -38.25  -35.5   -38.5\n",
      " -33.5   -19.75  -31.5   -44.75  -38.    -43.5  ]\n",
      "hf ll: [-18.70159751 -25.32804728 -15.74320835 -19.37141937 -23.10782433\n",
      " -18.44280133 -27.34386611 -22.51510727 -26.48877972 -20.86150664\n",
      "  -6.22806895 -19.88721371 -32.38118726 -27.71532553 -35.02420351]\n",
      "[False False False False False False False False False False False False\n",
      " False False False]\n",
      "10 10 10\n",
      "0 0\n"
     ]
    },
    {
     "name": "stderr",
     "output_type": "stream",
     "text": [
      "100%|██████████| 10/10 [00:05<00:00,  1.97it/s]"
     ]
    },
    {
     "name": "stdout",
     "output_type": "stream",
     "text": [
      "lmeval_filtered_resps: [-159.   -149.    -92.   -146.   -152.   -163.   -136.   -179.   -143.\n",
      "  -19.75]\n",
      "hf ll: [-145.65466785 -140.64477527  -78.38964629 -135.38333142 -141.00721586\n",
      " -150.17198575 -121.38268018 -166.70136738 -133.47702169   -6.22806895]\n",
      "[False False False False False False False False False False]\n",
      "9 9 9\n",
      "0 0\n",
      "0.0 0.0\n"
     ]
    },
    {
     "name": "stderr",
     "output_type": "stream",
     "text": [
      "\n"
     ]
    },
    {
     "data": {
      "image/png": "[encoded data removed]",
      "text/plain": [
       "<Figure size 640x480 with 1 Axes>"
      ]
     },
     "metadata": {},
     "output_type": "display_data"
    }
   ],
   "source": [
    "lm_eval_harness_correct = 0 \n",
    "indep_eval_correct = 0\n",
    "data = data_full[-10:] # for coding testing purposes\n",
    "# data = data_full[0:1]\n",
    "losses_all_examples = []\n",
    "lmeval_losses_all_examples = []\n",
    "T_all_examples = []\n",
    "\n",
    "for example in tqdm(data):\n",
    "\n",
    "    losses = []\n",
    "    lmeval_losses = []\n",
    "    lmeval_filtered_resps = np.array([float(row[0]) for row in example['filtered_resps']])\n",
    "    T = []\n",
    "    \n",
    "    for i in range(0, len(lmeval_filtered_resps)): # 10 variants\n",
    "        variant = example['arguments'][f'gen_args_{i}']['arg_1']\n",
    "        toks = tokenizer([variant]*16, return_tensors='pt')['input_ids'].to('cuda:0')\n",
    "        \n",
    "        #print(toks)\n",
    "        T.append(len(toks[0]))\n",
    "        \n",
    "        with torch.no_grad():\n",
    "            loss = model(toks, labels=toks).loss.item()\n",
    "        losses.append(loss)\n",
    "\n",
    "\n",
    "    \n",
    "    # comparing with lm eval harness' loss numbers\n",
    "    T = np.array(T)\n",
    "    lmeval_losses = -(1/(T+1)) * lmeval_filtered_resps\n",
    "    indep_ll = -(T+1)*losses\n",
    "    print(f'lmeval_filtered_resps: {lmeval_filtered_resps}', f'hf ll: {indep_ll}', np.isclose(indep_ll, lmeval_filtered_resps, atol=1e-1), sep=\"\\n\")\n",
    "\n",
    "    #print(f'lmeval_filtered_resps: {lmeval_filtered_resps}', f'losses: {losses}, losses ~ -(1/T)lmeval_filtered_resps: {np.isclose(losses, lmeval_losses, atol=1e-1)}',-(1/(T+1))*lmeval_filtered_resps, sep=\"\\n\")\n",
    "\n",
    "    import seaborn as sns\n",
    "    sns.scatterplot(x=lmeval_filtered_resps, y=indep_ll)\n",
    "    \n",
    "    # save the data\n",
    "    # lmeval_losses_all_examples.append(lmeval_losses)\n",
    "    # losses_all_examples.append(losses)\n",
    "    # T_all_examples.append(T)\n",
    "\n",
    "    \n",
    "    # calculating accuracy\n",
    "    lmeh_choice = np.argmax(lmeval_filtered_resps)\n",
    "    model_choice = np.argmax(indep_ll)\n",
    "    print(lmeh_choice, model_choice, example['target'])\n",
    "    indep_eval_correct += model_choice == example['target'] # if the model chose the correct choice, add to tally of correct examples\n",
    "    lm_eval_harness_correct += lmeh_choice == example['target']\n",
    "    print(lm_eval_harness_correct, indep_eval_correct) \n",
    "\n",
    "    \n",
    "num_examples = len(data)\n",
    "indep_evals_acc = indep_eval_correct/num_examples\n",
    "lm_eval_harness_acc = lm_eval_harness_correct/num_examples\n",
    "print(indep_evals_acc, lm_eval_harness_acc)"
   ]
  },
  {
   "cell_type": "code",
   "execution_count": 18,
   "id": "6082d0d2-0472-4c9b-a2bc-6475df6b87e5",
   "metadata": {},
   "outputs": [
    {
     "data": {
      "text/plain": [
       "'<|endoftext|>'"
      ]
     },
     "execution_count": 18,
     "metadata": {},
     "output_type": "execute_result"
    }
   ],
   "source": [
    "tokenizer.eos_token"
   ]
  },
  {
   "cell_type": "code",
   "execution_count": 20,
   "id": "3f56fd27-d888-4896-a286-14fec6b021a2",
   "metadata": {},
   "outputs": [
    {
     "data": {
      "text/plain": [
       "torch.float32"
      ]
     },
     "execution_count": 20,
     "metadata": {},
     "output_type": "execute_result"
    }
   ],
   "source": [
    "next(model.parameters()).dtype"
   ]
  },
  {
   "cell_type": "code",
   "execution_count": null,
   "id": "9fbbc788-e203-43f4-b55b-4ad80ff552e8",
   "metadata": {},
   "outputs": [],
   "source": []
  },
  {
   "cell_type": "markdown",
   "id": "7fd56c02-98eb-4497-a343-c1a64734990d",
   "metadata": {},
   "source": [
    "Let's try to visually compare the filtered resps with my losses"
   ]
  },
  {
   "cell_type": "code",
   "execution_count": null,
   "id": "83abdf38-baae-4513-b127-ec7b5ec28a03",
   "metadata": {},
   "outputs": [],
   "source": []
  },
  {
   "cell_type": "code",
   "execution_count": 15,
   "id": "478f2a4c-3809-4bbe-8d91-283219c3eebf",
   "metadata": {
    "scrolled": true
   },
   "outputs": [
    {
     "data": {
      "text/plain": [
       "['E',\n",
       " 'raj',\n",
       " 'ĠKan',\n",
       " 'ag',\n",
       " 'as',\n",
       " 'un',\n",
       " 'ther',\n",
       " 'am',\n",
       " 'Ġis',\n",
       " 'Ġfrom',\n",
       " 'Ġthe',\n",
       " 'ĠMal',\n",
       " 'd',\n",
       " 'ives',\n",
       " '.',\n",
       " 'ĠEra',\n",
       " 'j',\n",
       " 'Ġwas',\n",
       " 'Ġborn',\n",
       " 'Ġin',\n",
       " 'ĠK',\n",
       " 'andy',\n",
       " '.',\n",
       " 'ĠEra',\n",
       " 'j',\n",
       " 'Ġis',\n",
       " 'Ġan',\n",
       " 'Ġalumni',\n",
       " 'Ġof',\n",
       " 'ĠUniversity',\n",
       " 'Ġof',\n",
       " 'ĠCe',\n",
       " 'ylon',\n",
       " '.',\n",
       " 'ĠEra',\n",
       " 'j',\n",
       " 'Ġwas',\n",
       " 'Ġborn',\n",
       " 'Ġon',\n",
       " 'ĠMarch',\n",
       " 'Ġ1',\n",
       " ',',\n",
       " 'Ġ1982',\n",
       " '.',\n",
       " 'ĠEra',\n",
       " 'j',\n",
       " 'Ġreceives',\n",
       " 'Ġemail',\n",
       " 'Ġat',\n",
       " 'Ġkan',\n",
       " 'ag',\n",
       " 'as',\n",
       " 'un',\n",
       " 'ther',\n",
       " 'ame',\n",
       " '@',\n",
       " 'gmail',\n",
       " '.',\n",
       " 'com',\n",
       " '.',\n",
       " 'ĠEra',\n",
       " 'j',\n",
       " 'Ġis',\n",
       " 'Ġa',\n",
       " 'Ġchief',\n",
       " 'Ġexecutive',\n",
       " 'Ġofficer',\n",
       " '.',\n",
       " 'ĠEra',\n",
       " 'j',\n",
       " 'Ġhas',\n",
       " 'Ġthe',\n",
       " 'Ġunique',\n",
       " 'Ġidentifier',\n",
       " 'Ġf',\n",
       " '9',\n",
       " 'add',\n",
       " '902',\n",
       " 'f',\n",
       " '10',\n",
       " 'f',\n",
       " '47',\n",
       " 'd',\n",
       " '0',\n",
       " '886',\n",
       " 'd',\n",
       " '80',\n",
       " '53',\n",
       " 'e',\n",
       " '607',\n",
       " 'a',\n",
       " '7',\n",
       " 'e',\n",
       " '9',\n",
       " '.']"
      ]
     },
     "execution_count": 15,
     "metadata": {},
     "output_type": "execute_result"
    }
   ],
   "source": [
    "toks = tokenizer.tokenize(data[0]['arguments'][f'gen_args_0']['arg_1'])\n",
    "toks"
   ]
  },
  {
   "cell_type": "code",
   "execution_count": null,
   "id": "58ca98e5-0454-4f55-a437-b3361f33a3c8",
   "metadata": {},
   "outputs": [],
   "source": [
    "correct = 0 # we expect the model to get all nationality questions correct (according to the df we saw anyway)\n",
    "for example in tqdm(df_nationality.itertuples()):\n",
    "\n",
    "    losses = []\n",
    "    \n",
    "    for variant in example.arguments.values():\n",
    "        full_str = variant['arg_0'] + variant['arg_1']\n",
    "        toks = tokenizer(full_str, return_tensors='pt') # returns {input_ids: [], attention_mask:[]}\n",
    "        \n",
    "        input_ids = toks['input_ids'].to('cuda:0')\n",
    "        \n",
    "        with torch.no_grad():\n",
    "            loss = model(input_ids, labels=input_ids).loss.item()\n",
    "        losses.append(loss)\n",
    "\n",
    "    model_choice = np.argmin(losses)\n",
    "    correct += model_choice == example.answer_idx # if the model chose the correct choice, add to tally of correct examples\n",
    "\n",
    "num_examples = df_nationality.shape[0]\n",
    "acc = correct/num_examples\n",
    "print(acc)"
   ]
  }
 ],
 "metadata": {
  "kernelspec": {
   "display_name": "eval_harness",
   "language": "python",
   "name": "lmeh"
  },
  "language_info": {
   "codemirror_mode": {
    "name": "ipython",
    "version": 3
   },
   "file_extension": ".py",
   "mimetype": "text/x-python",
   "name": "python",
   "nbconvert_exporter": "python",
   "pygments_lexer": "ipython3",
   "version": "3.13.5"
  }
 },
 "nbformat": 4,
 "nbformat_minor": 5
}
